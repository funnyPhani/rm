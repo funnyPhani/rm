{
 "cells": [
  {
   "cell_type": "markdown",
   "metadata": {},
   "source": [
    "# Hello Python\n",
    "\n",
    "* Variables\n",
    "* type-casting\n",
    "* conditional statements\n",
    "* loops\n",
    "* collections\n",
    "* functions\n",
    "* exception handling\n",
    "* OOPS"
   ]
  },
  {
   "cell_type": "code",
   "execution_count": 6,
   "metadata": {},
   "outputs": [
    {
     "name": "stdout",
     "output_type": "stream",
     "text": [
      "1\n"
     ]
    }
   ],
   "source": [
    "a = 1\n",
    "print(a)"
   ]
  },
  {
   "cell_type": "code",
   "execution_count": 3,
   "metadata": {},
   "outputs": [
    {
     "name": "stdout",
     "output_type": "stream",
     "text": [
      "(1, 2, 3)\n"
     ]
    }
   ],
   "source": [
    "a = 1,2,3\n",
    "print(a)"
   ]
  },
  {
   "cell_type": "code",
   "execution_count": 4,
   "metadata": {},
   "outputs": [
    {
     "data": {
      "text/plain": [
       "tuple"
      ]
     },
     "execution_count": 4,
     "metadata": {},
     "output_type": "execute_result"
    }
   ],
   "source": [
    "type(a)"
   ]
  },
  {
   "cell_type": "code",
   "execution_count": 7,
   "metadata": {},
   "outputs": [
    {
     "data": {
      "text/plain": [
       "int"
      ]
     },
     "execution_count": 7,
     "metadata": {},
     "output_type": "execute_result"
    }
   ],
   "source": [
    "type(a)"
   ]
  },
  {
   "cell_type": "code",
   "execution_count": 10,
   "metadata": {},
   "outputs": [
    {
     "name": "stdout",
     "output_type": "stream",
     "text": [
      "1\n",
      "2\n",
      "3\n"
     ]
    }
   ],
   "source": [
    "a,b,_ = 1,2,3\n",
    "\n",
    "print(a)\n",
    "print(b)\n",
    "print(_)"
   ]
  },
  {
   "cell_type": "markdown",
   "metadata": {},
   "source": [
    "# relues for declaering variables\n",
    "\n",
    "* _ is used as varaible. (dummy variable)\n",
    "* datatypes can be used as variables\n",
    "* keywords aren't accepted as variables"
   ]
  },
  {
   "cell_type": "code",
   "execution_count": 11,
   "metadata": {},
   "outputs": [
    {
     "name": "stdout",
     "output_type": "stream",
     "text": [
      "Phani\n"
     ]
    }
   ],
   "source": [
    "int = \"Phani\"\n",
    "print(int)"
   ]
  },
  {
   "cell_type": "markdown",
   "metadata": {},
   "source": [
    "###### datatypes -> int,float,str,bool,complex"
   ]
  },
  {
   "cell_type": "code",
   "execution_count": 12,
   "metadata": {},
   "outputs": [
    {
     "ename": "SyntaxError",
     "evalue": "invalid syntax (<ipython-input-12-deeba2668cb3>, line 1)",
     "output_type": "error",
     "traceback": [
      "\u001b[1;36m  File \u001b[1;32m\"<ipython-input-12-deeba2668cb3>\"\u001b[1;36m, line \u001b[1;32m1\u001b[0m\n\u001b[1;33m    if = \"Pk\"\u001b[0m\n\u001b[1;37m       ^\u001b[0m\n\u001b[1;31mSyntaxError\u001b[0m\u001b[1;31m:\u001b[0m invalid syntax\n"
     ]
    }
   ],
   "source": [
    "if = \"Pk\"\n",
    "print(if)\n",
    "\n"
   ]
  },
  {
   "cell_type": "code",
   "execution_count": 13,
   "metadata": {},
   "outputs": [
    {
     "name": "stdout",
     "output_type": "stream",
     "text": [
      "['False', 'None', 'True', 'and', 'as', 'assert', 'async', 'await', 'break', 'class', 'continue', 'def', 'del', 'elif', 'else', 'except', 'finally', 'for', 'from', 'global', 'if', 'import', 'in', 'is', 'lambda', 'nonlocal', 'not', 'or', 'pass', 'raise', 'return', 'try', 'while', 'with', 'yield']\n"
     ]
    }
   ],
   "source": [
    "import keyword\n",
    "print(keyword.kwlist)"
   ]
  },
  {
   "cell_type": "code",
   "execution_count": 14,
   "metadata": {},
   "outputs": [
    {
     "name": "stdout",
     "output_type": "stream",
     "text": [
      "Phani\n"
     ]
    }
   ],
   "source": [
    "phani = \"Phani\"\n",
    "\n",
    "print(phani)"
   ]
  },
  {
   "cell_type": "code",
   "execution_count": 15,
   "metadata": {},
   "outputs": [
    {
     "name": "stdout",
     "output_type": "stream",
     "text": [
      "phani 123 5.7\n"
     ]
    }
   ],
   "source": [
    "a,b,c = \"phani\",123,5.7\n",
    "print(a,b,c)"
   ]
  },
  {
   "cell_type": "markdown",
   "metadata": {},
   "source": [
    "#### Multi-assignmnet operation"
   ]
  },
  {
   "cell_type": "code",
   "execution_count": 16,
   "metadata": {},
   "outputs": [
    {
     "name": "stdout",
     "output_type": "stream",
     "text": [
      "(1, 2, 3)\n",
      "(1, 2, 3)\n",
      "(1, 2, 3)\n"
     ]
    }
   ],
   "source": [
    "a = b = c = 1,2,3\n",
    "print(a)\n",
    "print(b)\n",
    "print(c)"
   ]
  },
  {
   "cell_type": "code",
   "execution_count": 17,
   "metadata": {},
   "outputs": [
    {
     "name": "stdout",
     "output_type": "stream",
     "text": [
      "123\n"
     ]
    }
   ],
   "source": [
    "_p = 123\n",
    "print(_p)"
   ]
  },
  {
   "cell_type": "code",
   "execution_count": 18,
   "metadata": {},
   "outputs": [
    {
     "ename": "SyntaxError",
     "evalue": "invalid syntax (<ipython-input-18-eaaa7c749963>, line 1)",
     "output_type": "error",
     "traceback": [
      "\u001b[1;36m  File \u001b[1;32m\"<ipython-input-18-eaaa7c749963>\"\u001b[1;36m, line \u001b[1;32m1\u001b[0m\n\u001b[1;33m    $p = 45\u001b[0m\n\u001b[1;37m    ^\u001b[0m\n\u001b[1;31mSyntaxError\u001b[0m\u001b[1;31m:\u001b[0m invalid syntax\n"
     ]
    }
   ],
   "source": [
    "$p = 45\n",
    "print($p)"
   ]
  },
  {
   "cell_type": "code",
   "execution_count": 20,
   "metadata": {},
   "outputs": [
    {
     "ename": "SyntaxError",
     "evalue": "invalid syntax (<ipython-input-20-14e5777d4b95>, line 1)",
     "output_type": "error",
     "traceback": [
      "\u001b[1;36m  File \u001b[1;32m\"<ipython-input-20-14e5777d4b95>\"\u001b[1;36m, line \u001b[1;32m1\u001b[0m\n\u001b[1;33m    1p = 45\u001b[0m\n\u001b[1;37m     ^\u001b[0m\n\u001b[1;31mSyntaxError\u001b[0m\u001b[1;31m:\u001b[0m invalid syntax\n"
     ]
    }
   ],
   "source": [
    "1p = 45\n",
    "1p"
   ]
  },
  {
   "cell_type": "code",
   "execution_count": 21,
   "metadata": {},
   "outputs": [
    {
     "data": {
      "text/plain": [
       "4555"
      ]
     },
     "execution_count": 21,
     "metadata": {},
     "output_type": "execute_result"
    }
   ],
   "source": [
    "a_p_1 = 4555\n",
    "a_p_1"
   ]
  },
  {
   "cell_type": "code",
   "execution_count": 24,
   "metadata": {},
   "outputs": [
    {
     "name": "stdout",
     "output_type": "stream",
     "text": [
      "ML java 458\n"
     ]
    }
   ],
   "source": [
    "a,b,a,_,_ = \"python\",\"java\",\"ML\",\"DL\",458\n",
    "print(a,b,_)"
   ]
  },
  {
   "cell_type": "code",
   "execution_count": 25,
   "metadata": {},
   "outputs": [
    {
     "ename": "SyntaxError",
     "evalue": "invalid syntax (<ipython-input-25-e7755c6558f5>, line 1)",
     "output_type": "error",
     "traceback": [
      "\u001b[1;36m  File \u001b[1;32m\"<ipython-input-25-e7755c6558f5>\"\u001b[1;36m, line \u001b[1;32m1\u001b[0m\n\u001b[1;33m    for = \"45\"\u001b[0m\n\u001b[1;37m        ^\u001b[0m\n\u001b[1;31mSyntaxError\u001b[0m\u001b[1;31m:\u001b[0m invalid syntax\n"
     ]
    }
   ],
   "source": [
    "for = \"45\"\n",
    "for"
   ]
  },
  {
   "cell_type": "code",
   "execution_count": 41,
   "metadata": {},
   "outputs": [
    {
     "name": "stdout",
     "output_type": "stream",
     "text": [
      "hello Phani and ur sub is : Python and ur age is : 25\n",
      "hello Phani and ur sub is: Python and ur age is: 25\n",
      "hello Phani, ur sub is Python and ur age is 25 \n"
     ]
    }
   ],
   "source": [
    "name = \"Phani\"\n",
    "sub = \"Python\"\n",
    "age = 25\n",
    "print(\"hello\",name, \"and ur sub is :\",sub, \"and ur age is :\",age)\n",
    "print(\"hello {1} and ur sub is: {0} and ur age is: {2}\".format(sub,name,age))\n",
    "\n",
    "print(f\"hello {name}, ur sub is {sub} and ur age is {age} \")"
   ]
  },
  {
   "cell_type": "markdown",
   "metadata": {},
   "source": [
    "# Type-Casting\n",
    "\n",
    "* implict\n",
    "* explict"
   ]
  },
  {
   "cell_type": "code",
   "execution_count": 43,
   "metadata": {},
   "outputs": [
    {
     "name": "stdout",
     "output_type": "stream",
     "text": [
      "30.5\n"
     ]
    }
   ],
   "source": [
    "a = 10   # int\n",
    "b = 20.5 # float\n",
    "c = a+b\n",
    "print(c)"
   ]
  },
  {
   "cell_type": "markdown",
   "metadata": {},
   "source": [
    "# Hard-coding\n",
    "a = 10"
   ]
  },
  {
   "cell_type": "code",
   "execution_count": 46,
   "metadata": {},
   "outputs": [
    {
     "name": "stdin",
     "output_type": "stream",
     "text": [
      "enter data : python\n"
     ]
    },
    {
     "name": "stdout",
     "output_type": "stream",
     "text": [
      "python <class 'str'>\n"
     ]
    }
   ],
   "source": [
    "a = input('enter data :')\n",
    "print(a,type(a))"
   ]
  },
  {
   "cell_type": "code",
   "execution_count": 1,
   "metadata": {},
   "outputs": [
    {
     "name": "stdin",
     "output_type": "stream",
     "text": [
      "enter data : 123\n"
     ]
    },
    {
     "name": "stdout",
     "output_type": "stream",
     "text": [
      "123 <class 'str'>\n",
      "123 <class 'int'>\n"
     ]
    }
   ],
   "source": [
    "a = input('enter data :')\n",
    "print(a,type(a))\n",
    "b = int(a)\n",
    "print(b,type(b))"
   ]
  },
  {
   "cell_type": "markdown",
   "metadata": {},
   "source": [
    "# If u use input the output of the input function is by default it str"
   ]
  },
  {
   "cell_type": "markdown",
   "metadata": {},
   "source": [
    "# Conditional Statements\n",
    "\n",
    "* if\n",
    "* elif\n",
    "* else\n",
    "* nested statements\n",
    "\n",
    "# loops\n",
    "\n",
    "* while\n",
    "* for\n",
    "* nested loops"
   ]
  },
  {
   "cell_type": "code",
   "execution_count": 8,
   "metadata": {},
   "outputs": [
    {
     "ename": "IndentationError",
     "evalue": "expected an indented block (<ipython-input-8-7796e12ac260>, line 3)",
     "output_type": "error",
     "traceback": [
      "\u001b[1;36m  File \u001b[1;32m\"<ipython-input-8-7796e12ac260>\"\u001b[1;36m, line \u001b[1;32m3\u001b[0m\n\u001b[1;33m    print(a)\u001b[0m\n\u001b[1;37m        ^\u001b[0m\n\u001b[1;31mIndentationError\u001b[0m\u001b[1;31m:\u001b[0m expected an indented block\n"
     ]
    }
   ],
   "source": [
    "a = int(input('enter a num :'))\n",
    "if a:\n",
    "print(a)\n",
    "else:\n",
    "    print(\"nothing...\")\n",
    "    "
   ]
  },
  {
   "cell_type": "code",
   "execution_count": 9,
   "metadata": {},
   "outputs": [
    {
     "ename": "SyntaxError",
     "evalue": "invalid syntax (<ipython-input-9-a9ebb56a9ccc>, line 2)",
     "output_type": "error",
     "traceback": [
      "\u001b[1;36m  File \u001b[1;32m\"<ipython-input-9-a9ebb56a9ccc>\"\u001b[1;36m, line \u001b[1;32m2\u001b[0m\n\u001b[1;33m    if a\u001b[0m\n\u001b[1;37m        ^\u001b[0m\n\u001b[1;31mSyntaxError\u001b[0m\u001b[1;31m:\u001b[0m invalid syntax\n"
     ]
    }
   ],
   "source": [
    "a = int(input('enter a num :'))\n",
    "if a\n",
    "    print(a)\n",
    "else:\n",
    "    print(\"nothing...\")\n",
    "    "
   ]
  },
  {
   "cell_type": "code",
   "execution_count": 12,
   "metadata": {},
   "outputs": [
    {
     "name": "stdin",
     "output_type": "stream",
     "text": [
      "enter a num : \n"
     ]
    },
    {
     "ename": "ValueError",
     "evalue": "invalid literal for int() with base 10: ''",
     "output_type": "error",
     "traceback": [
      "\u001b[1;31m---------------------------------------------------------------------------\u001b[0m",
      "\u001b[1;31mValueError\u001b[0m                                Traceback (most recent call last)",
      "\u001b[1;32m<ipython-input-12-8f53a58c832c>\u001b[0m in \u001b[0;36m<module>\u001b[1;34m\u001b[0m\n\u001b[1;32m----> 1\u001b[1;33m \u001b[0ma\u001b[0m \u001b[1;33m=\u001b[0m \u001b[0mint\u001b[0m\u001b[1;33m(\u001b[0m\u001b[0minput\u001b[0m\u001b[1;33m(\u001b[0m\u001b[1;34m'enter a num :'\u001b[0m\u001b[1;33m)\u001b[0m\u001b[1;33m)\u001b[0m\u001b[1;33m\u001b[0m\u001b[1;33m\u001b[0m\u001b[0m\n\u001b[0m\u001b[0;32m      2\u001b[0m \u001b[1;32mif\u001b[0m \u001b[0ma\u001b[0m\u001b[1;33m:\u001b[0m\u001b[1;33m\u001b[0m\u001b[1;33m\u001b[0m\u001b[0m\n\u001b[0;32m      3\u001b[0m     \u001b[0mprint\u001b[0m\u001b[1;33m(\u001b[0m\u001b[0ma\u001b[0m\u001b[1;33m)\u001b[0m\u001b[1;33m\u001b[0m\u001b[1;33m\u001b[0m\u001b[0m\n\u001b[0;32m      4\u001b[0m \u001b[1;32melse\u001b[0m\u001b[1;33m:\u001b[0m\u001b[1;33m\u001b[0m\u001b[1;33m\u001b[0m\u001b[0m\n\u001b[0;32m      5\u001b[0m     \u001b[0mprint\u001b[0m\u001b[1;33m(\u001b[0m\u001b[1;34m\"nothing...\"\u001b[0m\u001b[1;33m)\u001b[0m\u001b[1;33m\u001b[0m\u001b[1;33m\u001b[0m\u001b[0m\n",
      "\u001b[1;31mValueError\u001b[0m: invalid literal for int() with base 10: ''"
     ]
    }
   ],
   "source": [
    "a = int(input('enter a num :'))\n",
    "if a:\n",
    "    print(a)\n",
    "else:\n",
    "    print(\"nothing...\")\n",
    "    "
   ]
  },
  {
   "cell_type": "code",
   "execution_count": 15,
   "metadata": {},
   "outputs": [
    {
     "name": "stdin",
     "output_type": "stream",
     "text": [
      "enter a num : 5\n"
     ]
    },
    {
     "name": "stdout",
     "output_type": "stream",
     "text": [
      "5 is < than 10.\n"
     ]
    }
   ],
   "source": [
    "a = int(input('enter a num :'))\n",
    "if a:\n",
    "    if a>10:\n",
    "        print(a)\n",
    "    else:\n",
    "        print(f\"{a} is < than 10.\")\n",
    "else:\n",
    "    print(\"nothing...\")\n",
    "    "
   ]
  },
  {
   "cell_type": "code",
   "execution_count": 25,
   "metadata": {},
   "outputs": [
    {
     "name": "stdin",
     "output_type": "stream",
     "text": [
      "enter a num : 1\n"
     ]
    },
    {
     "name": "stdout",
     "output_type": "stream",
     "text": [
      "nothing... try again by passing more than 1....\n"
     ]
    }
   ],
   "source": [
    "a = int(input('enter a num :'))\n",
    "if a>2: # holding same data........ +ve/ -ve and string\n",
    "    if a>10 and a<=25:\n",
    "        print(a)\n",
    "    elif a>30 and a<=50:\n",
    "        print(\"30-50\")\n",
    "    else:\n",
    "        print(f\"Python \"*2)\n",
    "        if a%2 == 0:\n",
    "            print(f\"{a} is even\")\n",
    "        else:\n",
    "            print(f\"{a} is odd.\")\n",
    "else:\n",
    "    print(\"nothing... try again by passing more than 1....\")\n",
    "    "
   ]
  },
  {
   "cell_type": "code",
   "execution_count": 35,
   "metadata": {},
   "outputs": [
    {
     "name": "stdin",
     "output_type": "stream",
     "text": [
      "enter a num : 5\n"
     ]
    },
    {
     "name": "stdout",
     "output_type": "stream",
     "text": [
      "Python Python \n",
      "5 is odd.\n"
     ]
    }
   ],
   "source": [
    "while True:\n",
    "    a = int(input('enter a num :'))\n",
    "    if a>2: # holding same data........ +ve/ -ve and string\n",
    "        if a>10 and a<=25:\n",
    "            print(a)\n",
    "        elif a>30 and a<=50:\n",
    "            print(\"30-50\")\n",
    "        elif a>=50 and a<=100:\n",
    "            print(\"50-100\")\n",
    "        else:\n",
    "            print(f\"Python \"*2)\n",
    "            if a%2 == 0:\n",
    "                print(f\"{a} is even\")\n",
    "                break\n",
    "            else:\n",
    "                print(f\"{a} is odd.\")\n",
    "                break\n",
    "    else:\n",
    "        print(\"nothing... try again by passing more than 1....\")\n",
    "else:\n",
    "    print('u came out of loop..')"
   ]
  },
  {
   "cell_type": "code",
   "execution_count": 34,
   "metadata": {},
   "outputs": [
    {
     "data": {
      "text/html": [
       "<a href=\"https://google.at\">text</a>"
      ],
      "text/plain": [
       "<IPython.core.display.HTML object>"
      ]
     },
     "metadata": {},
     "output_type": "display_data"
    }
   ],
   "source": [
    "from IPython.core.display import display, HTML\n",
    "display(HTML(\"\"\"<a href=\"https://google.at\">text</a>\"\"\"))"
   ]
  },
  {
   "cell_type": "code",
   "execution_count": 41,
   "metadata": {},
   "outputs": [
    {
     "name": "stdout",
     "output_type": "stream",
     "text": [
      "1\n",
      "2\n",
      "3\n",
      "4\n",
      "5\n",
      "6\n",
      "7\n",
      "8\n",
      "9\n",
      "10\n",
      "u came out of loop.\n"
     ]
    }
   ],
   "source": [
    "i = 1\n",
    "while i<=10:\n",
    "    print(i)\n",
    "    i+=1\n",
    "else:\n",
    "    print('u came out of loop.')"
   ]
  },
  {
   "cell_type": "code",
   "execution_count": 47,
   "metadata": {},
   "outputs": [
    {
     "name": "stdout",
     "output_type": "stream",
     "text": [
      "2\n",
      "4\n",
      "6\n",
      "8\n",
      "10\n",
      "u came out\n"
     ]
    }
   ],
   "source": [
    "i = 1\n",
    "while i<=10:\n",
    "    if i%2 == 0:\n",
    "        print(i)\n",
    "        i+=1\n",
    "else:\n",
    "    print(\"u came out\")"
   ]
  },
  {
   "cell_type": "code",
   "execution_count": 48,
   "metadata": {},
   "outputs": [
    {
     "name": "stdout",
     "output_type": "stream",
     "text": [
      "2\n",
      "4\n",
      "6\n",
      "8\n",
      "10\n",
      "u came out\n"
     ]
    }
   ],
   "source": [
    "i = 1\n",
    "while i<=10:\n",
    "    if i%2 == 0:\n",
    "        print(i)\n",
    "    i+=1\n",
    "else:\n",
    "    print(\"u came out\")"
   ]
  },
  {
   "cell_type": "markdown",
   "metadata": {},
   "source": [
    "# for loops"
   ]
  },
  {
   "cell_type": "markdown",
   "metadata": {},
   "source": [
    "# <a href=\"https://pythontutor.com/\">Python-Debugging-Tool</a>"
   ]
  },
  {
   "cell_type": "code",
   "execution_count": 57,
   "metadata": {},
   "outputs": [
    {
     "ename": "TypeError",
     "evalue": "'float' object cannot be interpreted as an integer",
     "output_type": "error",
     "traceback": [
      "\u001b[1;31m---------------------------------------------------------------------------\u001b[0m",
      "\u001b[1;31mTypeError\u001b[0m                                 Traceback (most recent call last)",
      "\u001b[1;32m<ipython-input-57-820a473067c4>\u001b[0m in \u001b[0;36m<module>\u001b[1;34m\u001b[0m\n\u001b[1;32m----> 1\u001b[1;33m \u001b[1;32mfor\u001b[0m \u001b[0mi\u001b[0m \u001b[1;32min\u001b[0m \u001b[0mrange\u001b[0m\u001b[1;33m(\u001b[0m\u001b[1;36m1\u001b[0m\u001b[1;33m,\u001b[0m\u001b[1;36m50\u001b[0m\u001b[1;33m,\u001b[0m\u001b[1;36m2.5\u001b[0m\u001b[1;33m)\u001b[0m\u001b[1;33m:\u001b[0m\u001b[1;33m\u001b[0m\u001b[1;33m\u001b[0m\u001b[0m\n\u001b[0m\u001b[0;32m      2\u001b[0m     \u001b[0mprint\u001b[0m\u001b[1;33m(\u001b[0m\u001b[0mi\u001b[0m\u001b[1;33m)\u001b[0m\u001b[1;33m\u001b[0m\u001b[1;33m\u001b[0m\u001b[0m\n",
      "\u001b[1;31mTypeError\u001b[0m: 'float' object cannot be interpreted as an integer"
     ]
    }
   ],
   "source": [
    "for i in range(1,50,2.5):\n",
    "    print(i)"
   ]
  },
  {
   "cell_type": "code",
   "execution_count": 59,
   "metadata": {},
   "outputs": [
    {
     "name": "stdout",
     "output_type": "stream",
     "text": [
      "1 3 5 7 9 11 13 15 17 19 21 23 25 27 29 31 33 35 37 39 41 43 45 47 49 "
     ]
    }
   ],
   "source": [
    "for i in range(1,50,2):\n",
    "    print(i,end = \" \")"
   ]
  },
  {
   "cell_type": "code",
   "execution_count": 66,
   "metadata": {},
   "outputs": [
    {
     "name": "stdin",
     "output_type": "stream",
     "text": [
      "enter ur name : pk\n"
     ]
    },
    {
     "name": "stdout",
     "output_type": "stream",
     "text": [
      "Hello pk\n",
      "2\n",
      "Hello pk\n",
      "4\n",
      "Hello pk\n",
      "6\n",
      "Hello pk\n",
      "8\n",
      "Hello pk\n",
      "10\n",
      "Hello pk\n",
      "12\n",
      "Hello pk\n",
      "14\n",
      "Hello pk\n",
      "16\n",
      "Hello pk\n",
      "18\n",
      "Hello pk\n",
      "20\n",
      "Hello pk\n",
      "22\n",
      "Hello pk\n",
      "24\n",
      "Hello pk\n",
      "26\n",
      "Hello pk\n",
      "28\n",
      "Hello pk\n",
      "30\n",
      "Hello pk\n",
      "32\n",
      "Hello pk\n",
      "34\n",
      "Hello pk\n",
      "36\n",
      "Hello pk\n",
      "38\n",
      "Hello pk\n",
      "40\n",
      "Hello pk\n",
      "42\n",
      "Hello pk\n",
      "44\n",
      "Hello pk\n",
      "46\n",
      "Hello pk\n",
      "48\n",
      "Hello pk\n"
     ]
    }
   ],
   "source": [
    "name = input('enter ur name :')\n",
    "for i in range(1,50):\n",
    "    if i%2 == 0:\n",
    "        print(i)    \n",
    "    else:    \n",
    "        print(f\"Hello {name}\")\n",
    "        "
   ]
  },
  {
   "cell_type": "code",
   "execution_count": 67,
   "metadata": {},
   "outputs": [
    {
     "name": "stdout",
     "output_type": "stream",
     "text": [
      "1 2\n",
      "1 3\n",
      "1 4\n",
      "2 2\n",
      "2 3\n",
      "2 4\n",
      "3 2\n",
      "3 3\n",
      "3 4\n",
      "4 2\n",
      "4 3\n",
      "4 4\n"
     ]
    }
   ],
   "source": [
    "for i in range(1,5):\n",
    "    for j in range(2,5):\n",
    "        print(i,j)"
   ]
  },
  {
   "cell_type": "code",
   "execution_count": 83,
   "metadata": {},
   "outputs": [
    {
     "name": "stdout",
     "output_type": "stream",
     "text": [
      "* \n",
      "* * \n",
      "* * * \n",
      "* * * * \n",
      "* * * \n",
      "* * \n",
      "* \n"
     ]
    }
   ],
   "source": [
    "for i in range(1,5):\n",
    "    for j in  range(1,i+1):\n",
    "        print(\"*\",end = \" \")\n",
    "    print()\n",
    "for i in range(3,0,-1):\n",
    "    for j in range(1,i+1):\n",
    "        print(\"*\",end = \" \")\n",
    "    print()"
   ]
  },
  {
   "cell_type": "code",
   "execution_count": 82,
   "metadata": {},
   "outputs": [
    {
     "name": "stdout",
     "output_type": "stream",
     "text": [
      "5\n",
      "4\n",
      "3\n",
      "2\n",
      "1\n"
     ]
    }
   ],
   "source": [
    "for i in range(5,0,-1):\n",
    "    print(i)"
   ]
  },
  {
   "cell_type": "markdown",
   "metadata": {},
   "source": [
    "# # comments in Python\n",
    "* single line\n",
    "* Multi line\n",
    "* docstring/ triple quote"
   ]
  },
  {
   "cell_type": "code",
   "execution_count": 84,
   "metadata": {},
   "outputs": [
    {
     "data": {
      "text/plain": [
       "10"
      ]
     },
     "execution_count": 84,
     "metadata": {},
     "output_type": "execute_result"
    }
   ],
   "source": [
    "# gjfdkjd,s\n",
    "# dofjsdfj\n",
    "# sjdkdfjsdf\n",
    "# zsjhfijdsh\n",
    "# jdjhkvjdf\n",
    "# cntrl + ? \n",
    "a= 10\n",
    "a"
   ]
  },
  {
   "cell_type": "code",
   "execution_count": 90,
   "metadata": {},
   "outputs": [
    {
     "name": "stdout",
     "output_type": "stream",
     "text": [
      "\n",
      "zsdhfds\n",
      "sdflkjlds\n",
      "akfjovajoa\n",
      "sdjdfkjksd\n",
      "sduhsdjv\n",
      "lkdjfvofjsk\n",
      "\n"
     ]
    }
   ],
   "source": [
    "a = \"\"\"\n",
    "zsdhfds\n",
    "sdflkjlds\n",
    "akfjovajoa\n",
    "sdjdfkjksd\n",
    "sduhsdjv\n",
    "lkdjfvofjsk\n",
    "\"\"\"\n",
    "\n",
    "print(a)"
   ]
  },
  {
   "cell_type": "code",
   "execution_count": 94,
   "metadata": {},
   "outputs": [
    {
     "name": "stdout",
     "output_type": "stream",
     "text": [
      "\n",
      "    \n",
      "    1.even/odd\n",
      "    2.range of primes\n",
      "    3.pattern\n",
      "    4.pos/neg\n",
      "    5.factor of num\n",
      "    6.stop\n",
      "    \n",
      "    \n",
      "    \n"
     ]
    },
    {
     "name": "stdin",
     "output_type": "stream",
     "text": [
      "enter ur chooice : 8\n"
     ]
    },
    {
     "name": "stdout",
     "output_type": "stream",
     "text": [
      "plz enter data btn 1-6.\n",
      "\n",
      "    \n",
      "    1.even/odd\n",
      "    2.range of primes\n",
      "    3.pattern\n",
      "    4.pos/neg\n",
      "    5.factor of num\n",
      "    6.stop\n",
      "    \n",
      "    \n",
      "    \n"
     ]
    },
    {
     "name": "stdin",
     "output_type": "stream",
     "text": [
      "enter ur chooice : 5\n",
      "enter a num : 45\n"
     ]
    },
    {
     "name": "stdout",
     "output_type": "stream",
     "text": [
      "1 3 5 9 15 45 \n",
      "    \n",
      "    1.even/odd\n",
      "    2.range of primes\n",
      "    3.pattern\n",
      "    4.pos/neg\n",
      "    5.factor of num\n",
      "    6.stop\n",
      "    \n",
      "    \n",
      "    \n"
     ]
    },
    {
     "name": "stdin",
     "output_type": "stream",
     "text": [
      "enter ur chooice : 6\n"
     ]
    }
   ],
   "source": [
    "while True:\n",
    "    a = \"\"\"\n",
    "    \n",
    "    1.even/odd\n",
    "    2.range of primes\n",
    "    3.pattern\n",
    "    4.pos/neg\n",
    "    5.factor of num\n",
    "    6.stop\n",
    "    \n",
    "    \n",
    "    \"\"\"\n",
    "    print(a)\n",
    "    userinput = int(input('enter ur chooice :'))\n",
    "    if userinput in [1,2,3,4,5,6]:\n",
    "        if userinput == 1:\n",
    "            while True:\n",
    "                a1 = int(input('enter a num :'))\n",
    "                if a1>0:\n",
    "                    if a1%2 == 0:\n",
    "                        print('-'*20)\n",
    "                        print(f'{a1} is even.')\n",
    "                        print('-'*20)\n",
    "                        break\n",
    "                    else:\n",
    "                        print('-'*20)\n",
    "                        print(f\"{a1} is odd.\")\n",
    "                        print('-'*20)\n",
    "                        break\n",
    "                else:\n",
    "                    print('-'*20)\n",
    "                    print('enter +ve num.')\n",
    "                    print('-'*20)\n",
    "        elif userinput == 2:\n",
    "            a2 = int(input(\"enter ur lower bound :\"))\n",
    "            a3 = int(input(\"enter ur upper bound :\"))\n",
    "            for i in range(a2,a3+1):\n",
    "                for j in range(2,i):\n",
    "                    if i%j == 0:\n",
    "                        break\n",
    "                else:\n",
    "#                     print('-'*20)\n",
    "                    print(i,end = \" \")\n",
    "#                     print('-'*20)\n",
    "        elif userinput == 3:\n",
    "            a4 = input('enter any char :')\n",
    "            for i in range(1,5):\n",
    "                for j in range(1,i+1):\n",
    "                    print(a4,end = \" \")\n",
    "                print()\n",
    "            for i in range(3,0,-1):\n",
    "                for j in range(1,i+1):\n",
    "                    print(a4,end = \" \")\n",
    "                print()\n",
    "        elif userinput == 4:\n",
    "            a5 = int(input('enter a num'))\n",
    "            if a5>0:\n",
    "                print(f\"{a5} is pos\")\n",
    "            else:\n",
    "                print(f\"{a5} is -ve\")\n",
    "        elif userinput == 5:\n",
    "            a6 = int(input('enter a num :'))\n",
    "            for i in range(1,a6+1):\n",
    "                if a6%i == 0:\n",
    "                    print(i,end = \" \")\n",
    "        elif userinput == 6:\n",
    "            break\n",
    "      \n",
    "    else:\n",
    "        print(\"plz enter data btn 1-6.\")\n"
   ]
  },
  {
   "cell_type": "code",
   "execution_count": 95,
   "metadata": {},
   "outputs": [
    {
     "data": {
      "text/plain": [
       "'C:\\\\Users\\\\KIRAN\\\\Desktop\\\\Learning\\\\Dashboard\\\\MLAlgos\\\\PythonMLclasses'"
      ]
     },
     "execution_count": 95,
     "metadata": {},
     "output_type": "execute_result"
    }
   ],
   "source": [
    "pwd"
   ]
  },
  {
   "cell_type": "code",
   "execution_count": null,
   "metadata": {},
   "outputs": [],
   "source": []
  }
 ],
 "metadata": {
  "kernelspec": {
   "display_name": "Python 3",
   "language": "python",
   "name": "python3"
  },
  "language_info": {
   "codemirror_mode": {
    "name": "ipython",
    "version": 3
   },
   "file_extension": ".py",
   "mimetype": "text/x-python",
   "name": "python",
   "nbconvert_exporter": "python",
   "pygments_lexer": "ipython3",
   "version": "3.7.4"
  }
 },
 "nbformat": 4,
 "nbformat_minor": 4
}
